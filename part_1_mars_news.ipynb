{
 "cells": [
  {
   "cell_type": "markdown",
   "metadata": {},
   "source": [
    "# Module 12 Challenge\n",
    "## Deliverable 1: Scrape Titles and Preview Text from Mars News"
   ]
  },
  {
   "cell_type": "code",
   "execution_count": 1,
   "metadata": {},
   "outputs": [],
   "source": [
    "# Import Splinter and BeautifulSoup\n",
    "from splinter import Browser\n",
    "from bs4 import BeautifulSoup as soup\n",
    "from webdriver_manager.chrome import ChromeDriverManager\n",
    "import json"
   ]
  },
  {
   "cell_type": "code",
   "execution_count": 2,
   "metadata": {
    "scrolled": true
   },
   "outputs": [
    {
     "name": "stderr",
     "output_type": "stream",
     "text": [
      "[WDM] - Downloading: 100%|█████████████████| 8.61M/8.61M [00:00<00:00, 9.78MB/s]\n"
     ]
    }
   ],
   "source": [
    "executable_path = {'executable_path': ChromeDriverManager().install()}\n",
    "browser = Browser('chrome', **executable_path, headless=False)"
   ]
  },
  {
   "cell_type": "markdown",
   "metadata": {},
   "source": [
    "### Step 1: Visit the Website\n",
    "\n",
    "1. Use automated browsing to visit the [Mars NASA news site](https://redplanetscience.com). Inspect the page to identify which elements to scrape.\n",
    "\n",
    "      > **Hint** To identify which elements to scrape, you might want to inspect the page by using Chrome DevTools."
   ]
  },
  {
   "cell_type": "code",
   "execution_count": 3,
   "metadata": {},
   "outputs": [],
   "source": [
    "# Visit the Mars NASA news site: https://redplanetscience.com\n",
    "url = 'https://redplanetscience.com'\n",
    "browser.visit(url)"
   ]
  },
  {
   "cell_type": "markdown",
   "metadata": {},
   "source": [
    "### Step 2: Scrape the Website\n",
    "\n",
    "Create a Beautiful Soup object and use it to extract text elements from the website."
   ]
  },
  {
   "cell_type": "code",
   "execution_count": 4,
   "metadata": {},
   "outputs": [],
   "source": [
    "# Create a Beautiful Soup object\n",
    "html = browser.html\n",
    "html_soup = soup(html, 'html.parser')"
   ]
  },
  {
   "cell_type": "code",
   "execution_count": 5,
   "metadata": {},
   "outputs": [
    {
     "name": "stdout",
     "output_type": "stream",
     "text": [
      "[<div class=\"list_text\">\n",
      "<div class=\"list_date\">December 21, 2022</div>\n",
      "<div class=\"content_title\">NASA Wins Two Emmy Awards for Interactive Mission Coverage</div>\n",
      "<div class=\"article_teaser_body\">NASA-JPL's coverage of the Mars InSight landing earns one of the two wins, making this the NASA center's second Emmy.</div>\n",
      "</div>, <div class=\"list_text\">\n",
      "<div class=\"list_date\">December 20, 2022</div>\n",
      "<div class=\"content_title\">MOXIE Could Help Future Rockets Launch Off Mars</div>\n",
      "<div class=\"article_teaser_body\">NASA's Perseverance rover carries a device to convert Martian air into oxygen that, if produced on a larger scale, could be used not just for breathing, but also for fuel.</div>\n",
      "</div>, <div class=\"list_text\">\n",
      "<div class=\"list_date\">December 19, 2022</div>\n",
      "<div class=\"content_title\">Independent Review Indicates NASA Prepared for Mars Sample Return Campaign</div>\n",
      "<div class=\"article_teaser_body\">NASA released an independent review report Tuesday indicating the agency is well positioned for its Mars Sample Return campaign to bring pristine samples from Mars to Earth for scientific study.</div>\n",
      "</div>, <div class=\"list_text\">\n",
      "<div class=\"list_date\">December 16, 2022</div>\n",
      "<div class=\"content_title\">NASA Invites Students to Name Mars 2020 Rover</div>\n",
      "<div class=\"article_teaser_body\">Through Nov. 1, K-12 students in the U.S. are encouraged to enter an essay contest to name NASA's next Mars rover.</div>\n",
      "</div>, <div class=\"list_text\">\n",
      "<div class=\"list_date\">December 14, 2022</div>\n",
      "<div class=\"content_title\">Sensors on Mars 2020 Spacecraft Answer Long-Distance Call From Earth</div>\n",
      "<div class=\"article_teaser_body\">Instruments tailored to collect data during the descent of NASA's next rover through the Red Planet's atmosphere have been checked in flight.</div>\n",
      "</div>, <div class=\"list_text\">\n",
      "<div class=\"list_date\">December 12, 2022</div>\n",
      "<div class=\"content_title\">Naming a NASA Mars Rover Can Change Your Life</div>\n",
      "<div class=\"article_teaser_body\">Want to name the robotic scientist NASA is sending to Mars in 2020? The student who named Curiosity — the rover currently exploring Mars — will tell you this is an opportunity worth taking.</div>\n",
      "</div>, <div class=\"list_text\">\n",
      "<div class=\"list_date\">December 11, 2022</div>\n",
      "<div class=\"content_title\">NASA's Mars 2020 Heads Into the Test Chamber</div>\n",
      "<div class=\"article_teaser_body\">In this time-lapse video taken at JPL, engineers move the Mars 2020 rover into a large vacuum chamber for testing in Mars-like environmental conditions.</div>\n",
      "</div>, <div class=\"list_text\">\n",
      "<div class=\"list_date\">December 8, 2022</div>\n",
      "<div class=\"content_title\">The MarCO Mission Comes to an End</div>\n",
      "<div class=\"article_teaser_body\">The pair of briefcase-sized satellites made history when they sailed past Mars in 2019.</div>\n",
      "</div>, <div class=\"list_text\">\n",
      "<div class=\"list_date\">December 6, 2022</div>\n",
      "<div class=\"content_title\">NASA's Curiosity Takes Selfie With 'Mary Anning' on the Red Planet</div>\n",
      "<div class=\"article_teaser_body\">The Mars rover has drilled three samples of rock in this clay-enriched region since arriving in July.</div>\n",
      "</div>, <div class=\"list_text\">\n",
      "<div class=\"list_date\">December 4, 2022</div>\n",
      "<div class=\"content_title\">NASA Updates Mars 2020 Mission Environmental Review</div>\n",
      "<div class=\"article_teaser_body\">NASA and the Department of Energy have completed a more detailed risk analysis for the Mars 2020 rover launch from Florida.</div>\n",
      "</div>, <div class=\"list_text\">\n",
      "<div class=\"list_date\">December 4, 2022</div>\n",
      "<div class=\"content_title\">3 Things We've Learned From NASA's Mars InSight </div>\n",
      "<div class=\"article_teaser_body\">Scientists are finding new mysteries since the geophysics mission landed two years ago.</div>\n",
      "</div>, <div class=\"list_text\">\n",
      "<div class=\"list_date\">November 27, 2022</div>\n",
      "<div class=\"content_title\">Deadline Closing for Names to Fly on NASA's Next Mars Rover</div>\n",
      "<div class=\"article_teaser_body\">You have until Sept. 30 to send your names to Mars aboard the Mars 2020 rover. </div>\n",
      "</div>, <div class=\"list_text\">\n",
      "<div class=\"list_date\">November 26, 2022</div>\n",
      "<div class=\"content_title\">NASA's Briefcase-Size MarCO Satellite Picks Up Honors</div>\n",
      "<div class=\"article_teaser_body\">The twin spacecraft, the first of their kind to fly into deep space, earn a Laureate from Aviation Week &amp; Space Technology.</div>\n",
      "</div>, <div class=\"list_text\">\n",
      "<div class=\"list_date\">November 23, 2022</div>\n",
      "<div class=\"content_title\">NASA's Curiosity Mars Rover Takes a New Selfie Before Record Climb</div>\n",
      "<div class=\"article_teaser_body\">Along with capturing an image before its steepest ascent ever, the robotic explorer filmed its \"selfie stick,\" or robotic arm, in action.</div>\n",
      "</div>, <div class=\"list_text\">\n",
      "<div class=\"list_date\">November 22, 2022</div>\n",
      "<div class=\"content_title\">Virginia Middle School Student Earns Honor of Naming NASA's Next Mars Rover</div>\n",
      "<div class=\"article_teaser_body\">NASA chose a seventh-grader from Virginia as winner of the agency's \"Name the Rover\" essay contest. Alexander Mather's entry for \"Perseverance\" was voted tops among 28,000 entries. </div>\n",
      "</div>]\n"
     ]
    }
   ],
   "source": [
    "# Extract all the text elements\n",
    "text_elems = html_soup.find_all('div', class_='list_text')\n",
    "print(text_elems)"
   ]
  },
  {
   "cell_type": "markdown",
   "metadata": {},
   "source": [
    "### Step 3: Store the Results\n",
    "\n",
    "Extract the titles and preview text of the news articles that you scraped. Store the scraping results in Python data structures as follows:\n",
    "\n",
    "* Store each title-and-preview pair in a Python dictionary. And, give each dictionary two keys: `title` and `preview`. An example is the following:\n",
    "\n",
    "  ```python\n",
    "  {'title': \"Mars Rover Begins Mission!\", \n",
    "        'preview': \"NASA's Mars Rover begins a multiyear mission to collect data about the little-explored planet.\"}\n",
    "  ```\n",
    "\n",
    "* Store all the dictionaries in a Python list.\n",
    "\n",
    "* Print the list in your notebook."
   ]
  },
  {
   "cell_type": "code",
   "execution_count": 6,
   "metadata": {},
   "outputs": [],
   "source": [
    "# Create an empty list to store the dictionaries\n",
    "details = []"
   ]
  },
  {
   "cell_type": "code",
   "execution_count": 7,
   "metadata": {},
   "outputs": [],
   "source": [
    "for row in text_elems:\n",
    "    title = row.find('div', class_='content_title').text\n",
    "    prev = row.find('div', class_='article_teaser_body').text\n",
    "    news={}\n",
    "    news['title']=title\n",
    "    news['preview']=prev\n",
    "    details.append(news)"
   ]
  },
  {
   "cell_type": "code",
   "execution_count": 8,
   "metadata": {},
   "outputs": [],
   "source": [
    "# Loop through the text elements\n",
    "\n",
    "# Extract the title and preview text from the elements\n",
    "\n",
    "# Store each title and preview pair in a dictionary\n",
    "\n",
    "# Add the dictionary to the list\n"
   ]
  },
  {
   "cell_type": "code",
   "execution_count": 9,
   "metadata": {},
   "outputs": [
    {
     "name": "stdout",
     "output_type": "stream",
     "text": [
      "[{'title': 'NASA Wins Two Emmy Awards for Interactive Mission Coverage', 'preview': \"NASA-JPL's coverage of the Mars InSight landing earns one of the two wins, making this the NASA center's second Emmy.\"}, {'title': 'MOXIE Could Help Future Rockets Launch Off Mars', 'preview': \"NASA's Perseverance rover carries a device to convert Martian air into oxygen that, if produced on a larger scale, could be used not just for breathing, but also for fuel.\"}, {'title': 'Independent Review Indicates NASA Prepared for Mars Sample Return Campaign', 'preview': 'NASA released an independent review report Tuesday indicating the agency is well positioned for its Mars Sample Return campaign to bring pristine samples from Mars to Earth for scientific study.'}, {'title': 'NASA Invites Students to Name Mars 2020 Rover', 'preview': \"Through Nov. 1, K-12 students in the U.S. are encouraged to enter an essay contest to name NASA's next Mars rover.\"}, {'title': 'Sensors on Mars 2020 Spacecraft Answer Long-Distance Call From Earth', 'preview': \"Instruments tailored to collect data during the descent of NASA's next rover through the Red Planet's atmosphere have been checked in flight.\"}, {'title': 'Naming a NASA Mars Rover Can Change Your Life', 'preview': 'Want to name the robotic scientist NASA is sending to Mars in 2020? The student who named Curiosity — the rover currently exploring Mars — will tell you this is an opportunity worth taking.'}, {'title': \"NASA's Mars 2020 Heads Into the Test Chamber\", 'preview': 'In this time-lapse video taken at JPL, engineers move the Mars 2020 rover into a large vacuum chamber for testing in Mars-like environmental conditions.'}, {'title': 'The MarCO Mission Comes to an End', 'preview': 'The pair of briefcase-sized satellites made history when they sailed past Mars in 2019.'}, {'title': \"NASA's Curiosity Takes Selfie With 'Mary Anning' on the Red Planet\", 'preview': 'The Mars rover has drilled three samples of rock in this clay-enriched region since arriving in July.'}, {'title': 'NASA Updates Mars 2020 Mission Environmental Review', 'preview': 'NASA and the Department of Energy have completed a more detailed risk analysis for the Mars 2020 rover launch from Florida.'}, {'title': \"3 Things We've Learned From NASA's Mars InSight \", 'preview': 'Scientists are finding new mysteries since the geophysics mission landed two years ago.'}, {'title': \"Deadline Closing for Names to Fly on NASA's Next Mars Rover\", 'preview': 'You have until Sept. 30 to send your names to Mars aboard the Mars 2020 rover. '}, {'title': \"NASA's Briefcase-Size MarCO Satellite Picks Up Honors\", 'preview': 'The twin spacecraft, the first of their kind to fly into deep space, earn a Laureate from Aviation Week & Space Technology.'}, {'title': \"NASA's Curiosity Mars Rover Takes a New Selfie Before Record Climb\", 'preview': 'Along with capturing an image before its steepest ascent ever, the robotic explorer filmed its \"selfie stick,\" or robotic arm, in action.'}, {'title': \"Virginia Middle School Student Earns Honor of Naming NASA's Next Mars Rover\", 'preview': 'NASA chose a seventh-grader from Virginia as winner of the agency\\'s \"Name the Rover\" essay contest. Alexander Mather\\'s entry for \"Perseverance\" was voted tops among 28,000 entries. '}]\n"
     ]
    }
   ],
   "source": [
    "# Print the list to confirm success\n",
    "print(details)"
   ]
  },
  {
   "cell_type": "code",
   "execution_count": 10,
   "metadata": {},
   "outputs": [],
   "source": [
    "browser.quit()"
   ]
  },
  {
   "cell_type": "markdown",
   "metadata": {},
   "source": [
    "### (Optional) Step 4: Export the Data\n",
    "\n",
    "Optionally, store the scraped data in a file or database (to ease sharing the data with others). To do so, export the scraped data to either a JSON file or a MongoDB database."
   ]
  },
  {
   "cell_type": "code",
   "execution_count": 11,
   "metadata": {},
   "outputs": [],
   "source": [
    "# Export data to JSON\n"
   ]
  },
  {
   "cell_type": "code",
   "execution_count": 12,
   "metadata": {},
   "outputs": [],
   "source": [
    "# Export data to MongoDB\n"
   ]
  }
 ],
 "metadata": {
  "kernelspec": {
   "display_name": "Python 3 (ipykernel)",
   "language": "python",
   "name": "python3"
  },
  "language_info": {
   "codemirror_mode": {
    "name": "ipython",
    "version": 3
   },
   "file_extension": ".py",
   "mimetype": "text/x-python",
   "name": "python",
   "nbconvert_exporter": "python",
   "pygments_lexer": "ipython3",
   "version": "3.9.12"
  }
 },
 "nbformat": 4,
 "nbformat_minor": 4
}
